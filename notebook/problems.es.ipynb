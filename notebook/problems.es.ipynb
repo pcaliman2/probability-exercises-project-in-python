{
 "cells": [
  {
   "cell_type": "markdown",
   "id": "a41f3622",
   "metadata": {},
   "source": [
    "# Ejercicios de probabilidad"
   ]
  },
  {
   "cell_type": "markdown",
   "id": "a6bdbd89",
   "metadata": {},
   "source": [
    "## Ejercicio 1 \n",
    "\n",
    "Dos dados se lanzan una vez y se observa el total obtenido. Usa una simulación para encontrar la probabilidad estimada de que la puntuación sea mayor a 7 o un número par. Una simulación es una repetición del mismo experimento multiples veces para observar su comportamiento:\n",
    "\n",
    "- Ejecuta el experimento 1000 veces (lanza 2 dados 1000 veces, y suma el número de ambos dados).\n",
    "- Lleva ua cuenta de los números y las veces que la suma fue mayor a 7 o un número par.\n",
    "- Divide el número del paso 2 entre el número de iteraciones(1000)."
   ]
  },
  {
   "cell_type": "code",
   "execution_count": null,
   "id": "8939d892",
   "metadata": {},
   "outputs": [
    {
     "name": "stdout",
     "output_type": "stream",
     "text": [
      "¿Cuantas veces deseas ralizar la Simulacion?\n"
     ]
    }
   ],
   "source": [
    "import random\n",
    "\n",
    "def Lanze_de_Dados():\n",
    "#Este Sub es l que realiza el Evento Aleatorio y me devuelve solo si es \n",
    "#Exito o no.\n",
    "    Condicion = 0\n",
    "    dado1 = random.randint(1, 6)\n",
    "    dado2 = random.randint(1, 6)\n",
    "    Resultado = dado1 + dado2\n",
    "    SalidaPara = (Resultado% 2)==0\n",
    "    if (SalidaPara) or (Resultado > 7):\n",
    "            Condicion = 1\n",
    "    return Condicion\n",
    "    \n",
    "\n",
    "def Simulacion_de_Dados(Repeticiones):\n",
    "    EventosFavorables = 0\n",
    "#Este Algoritmo controla cuantas veces Realizo el Lanze de dados\n",
    "# y las Operaciones\n",
    "    for i in range(Repeticiones):\n",
    "        EventosFavorables = EventosFavorables + Lanze_de_Dados()\n",
    "    return EventosFavorables/Repeticiones\n",
    "        \n",
    "#Pregunto al Usuario Cuantas eces Desea Realiar la Siulacion\n",
    "print(\"La Simulación se realizará 1000 Veces\")\n",
    "#Transformo el numero en Integer. No Valide si era un crcter.\n",
    "Repeticiones=1000\n",
    "#Este Subalgoritmo Controla el Flujo y me devuelve la Probabilidad\n",
    "Simulacion =  Simulacion_de_Dados(Repeticiones)\n",
    "print(f\"El porcentaje de las simulaciones da: {Simulacion}\")"
   ]
  },
  {
   "cell_type": "markdown",
   "id": "55732bca",
   "metadata": {},
   "source": [
    "## Ejercicio 2\n",
    "\n",
    "Una caja contiene 10 bolas blancas, 20 bolas rojas y 30 bolas verdes. Si tomamos 5 bolas de la caja reemplazándolas (tomando una bola, anotando el color y luego regresandola a la caja). Queremos saber la probabilidad de:\n",
    "\n",
    "1. Tomar 3 blancas y 2 rojas.\n",
    "2. Toas todas del mismo color.\n",
    "\n",
    "Ejecuta el experimento 1000 veces y calcula las probabilidades que mencionadas."
   ]
  },
  {
   "cell_type": "code",
   "execution_count": null,
   "id": "23244d20",
   "metadata": {},
   "outputs": [
    {
     "ename": "",
     "evalue": "",
     "output_type": "error",
     "traceback": [
      "\u001b[1;31mRunning cells with 'c:\\Program Files\\Python312\\python.exe' requires the ipykernel package.\n",
      "\u001b[1;31mRun the following command to install 'ipykernel' into the Python environment. \n",
      "\u001b[1;31mCommand: '\"c:/Program Files/Python312/python.exe\" -m pip install ipykernel -U --user --force-reinstall'"
     ]
    }
   ],
   "source": [
    "ball_box = {}\n",
    "\n",
    "# Crea la cajas con las bolas\n",
    "for i in range(60):\n",
    "    if i < 10:\n",
    "        ball_box[i] = \"White\"\n",
    "    elif (i > 9) and (i < 30):\n",
    "        ball_box[i] = \"Red\"\n",
    "    else:\n",
    "        ball_box[i] = \"Green\"\n",
    "\n",
    "print(ball_box)\n",
    "            \n",
    "# TODO"
   ]
  }
 ],
 "metadata": {
  "kernelspec": {
   "display_name": "Python 3",
   "language": "python",
   "name": "python3"
  },
  "language_info": {
   "codemirror_mode": {
    "name": "ipython",
    "version": 3
   },
   "file_extension": ".py",
   "mimetype": "text/x-python",
   "name": "python",
   "nbconvert_exporter": "python",
   "pygments_lexer": "ipython3",
   "version": "3.11.4"
  }
 },
 "nbformat": 4,
 "nbformat_minor": 5
}
