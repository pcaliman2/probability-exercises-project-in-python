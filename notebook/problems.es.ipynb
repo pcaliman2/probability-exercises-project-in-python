{
 "cells": [
  {
   "cell_type": "markdown",
   "id": "a41f3622",
   "metadata": {},
   "source": [
    "# Ejercicios de probabilidad"
   ]
  },
  {
   "cell_type": "markdown",
   "id": "a6bdbd89",
   "metadata": {},
   "source": [
    "## Ejercicio 1 \n",
    "\n",
    "Dos dados se lanzan una vez y se observa el total obtenido. Usa una simulación para encontrar la probabilidad estimada de que la puntuación sea mayor a 7 o un número par. Una simulación es una repetición del mismo experimento multiples veces para observar su comportamiento:\n",
    "\n",
    "- Ejecuta el experimento 1000 veces (lanza 2 dados 1000 veces, y suma el número de ambos dados).\n",
    "- Lleva ua cuenta de los números y las veces que la suma fue mayor a 7 o un número par.\n",
    "- Divide el número del paso 2 entre el número de iteraciones(1000)."
   ]
  },
  {
   "cell_type": "code",
   "execution_count": 7,
   "id": "8939d892",
   "metadata": {},
   "outputs": [
    {
     "name": "stdout",
     "output_type": "stream",
     "text": [
      "La Simulación se realizará 1000 Veces\n",
      "El porcentaje de las simulaciones da: 64.8%\n"
     ]
    }
   ],
   "source": [
    "import random\n",
    "\n",
    "def Lanze_de_Dados():\n",
    "#Este Sub es l que realiza el Evento Aleatorio y me devuelve solo si es \n",
    "#Exito o no.\n",
    "    Condicion = 0\n",
    "    dado1 = random.randint(1, 6)\n",
    "    dado2 = random.randint(1, 6)\n",
    "    Resultado = dado1 + dado2\n",
    "    SalidaPara = (Resultado% 2)==0\n",
    "    if (SalidaPara) or (Resultado > 7):\n",
    "            Condicion = 1\n",
    "    return Condicion\n",
    "    \n",
    "\n",
    "def Simulacion_de_Dados(Repeticiones):\n",
    "    EventosFavorables = 0\n",
    "#Este Algoritmo controla cuantas veces Realizo el Lanze de dados\n",
    "# y las Operaciones\n",
    "    for i in range(Repeticiones):\n",
    "        EventosFavorables = EventosFavorables + Lanze_de_Dados()\n",
    "    return (EventosFavorables/Repeticiones*100)\n",
    "        \n",
    "#Pregunto al Usuario Cuantas eces Desea Realiar la Siulacion\n",
    "print(\"La Simulación se realizará 1000 Veces\")\n",
    "#Transformo el numero en Integer. No Valide si era un crcter.\n",
    "Repeticiones=1000\n",
    "#Este Subalgoritmo Controla el Flujo y me devuelve la Probabilidad\n",
    "Simulacion =  Simulacion_de_Dados(Repeticiones)\n",
    "print(f\"El porcentaje de las simulaciones da: {Simulacion}%\")"
   ]
  },
  {
   "cell_type": "markdown",
   "id": "55732bca",
   "metadata": {},
   "source": [
    "## Ejercicio 2\n",
    "\n",
    "Una caja contiene 10 bolas blancas, 20 bolas rojas y 30 bolas verdes. Si tomamos 5 bolas de la caja reemplazándolas (tomando una bola, anotando el color y luego regresandola a la caja). Queremos saber la probabilidad de:\n",
    "\n",
    "1. Tomar 3 blancas y 2 rojas.\n",
    "2. Toas todas del mismo color.\n",
    "\n",
    "Ejecuta el experimento 1000 veces y calcula las probabilidades que mencionadas."
   ]
  },
  {
   "cell_type": "code",
   "execution_count": null,
   "id": "23244d20",
   "metadata": {},
   "outputs": [
    {
     "name": "stdout",
     "output_type": "stream",
     "text": [
      "{0: 'White', 1: 'White', 2: 'White', 3: 'White', 4: 'White', 5: 'White', 6: 'White', 7: 'White', 8: 'White', 9: 'White', 10: 'Red', 11: 'Red', 12: 'Red', 13: 'Red', 14: 'Red', 15: 'Red', 16: 'Red', 17: 'Red', 18: 'Red', 19: 'Red', 20: 'Red', 21: 'Red', 22: 'Red', 23: 'Red', 24: 'Red', 25: 'Red', 26: 'Red', 27: 'Red', 28: 'Red', 29: 'Red', 30: 'Green', 31: 'Green', 32: 'Green', 33: 'Green', 34: 'Green', 35: 'Green', 36: 'Green', 37: 'Green', 38: 'Green', 39: 'Green', 40: 'Green', 41: 'Green', 42: 'Green', 43: 'Green', 44: 'Green', 45: 'Green', 46: 'Green', 47: 'Green', 48: 'Green', 49: 'Green', 50: 'Green', 51: 'Green', 52: 'Green', 53: 'Green', 54: 'Green', 55: 'Green', 56: 'Green', 57: 'Green', 58: 'Green', 59: 'Green'}\n",
      "7\n",
      "33\n",
      "33\n"
     ]
    }
   ],
   "source": [
    "import numpy as np\n",
    "\n",
    "ball_box = {}\n",
    "\n",
    "# Crea la cajas con las bolas\n",
    "for i in range(60):\n",
    "    if i < 10:\n",
    "        ball_box[i] = \"White\"\n",
    "    elif (i > 9) and (i < 30):\n",
    "        ball_box[i] = \"Red\"\n",
    "    else:\n",
    "        ball_box[i] = \"Green\"\n",
    "\n",
    "print(ball_box)\n",
    "            \n",
    "def take_balls(Numero_Repeticiones):\n",
    "    Rojas_y_Blancas = 0\n",
    "    Iguales = 0\n",
    "\n",
    "    \n",
    "    for i in range(Numero_Repeticiones):\n",
    "        Bolas = []\n",
    "\n",
    "            # El Algoritmo que nos entregaron Llena la Caja con \n",
    "            # Las Blancas desde el indice 0 al 9 dando 10 Blancas\n",
    "            # Las Rojas desde el indice 10 al 29 dando 20 Rojas\n",
    "            # Las Verdes desde el indice 30 al 59 dando 30 Verdes\n",
    "            # Siendo las Verrdes las de mayor provabilidad\n",
    "\n",
    "        for i in range(5):\n",
    "            Bolas.append(ball_box[np.random.randint(0, 59)])\n",
    "            conteo = {}\n",
    "\n",
    "            # Convierto los Elementos a un Diccionario\n",
    "        for item in Bolas:\n",
    "            if item in conteo:\n",
    "                conteo[item] += 1\n",
    "            else:\n",
    "                conteo[item] = 1\n",
    "\n",
    "            # Realizo las Comparaciones\n",
    "\n",
    "            if (conteo.get('White',0)==3) and (conteo.get('Red',0)==2):\n",
    "                Rojas_y_Blancas += 1\n",
    "            if (conteo.get('White',0)==5) or (conteo.get('Red',0)==5) or (conteo.get('Green',0)==5):\n",
    "                Iguales += 1\n",
    "\n",
    "    print(Rojas_y_Blancas)\n",
    "    print(Iguales)\n",
    "\n",
    "    return Rojas_y_Blancas,Iguales\n",
    "\n",
    "Numero_Repeticiones = 1000\n",
    "prueba = take_balls(Numero_Repeticiones)\n",
    "print(prueba[1])\n",
    "print(f\"La probabilidad de que salgan 3 Blancas y 2 Rojas: {prueba[0]/ Numero_Repeticiones* 100}%\")\n",
    "print(f\"La probabilidad de que todas las bolas sean Iguales: {prueba[1]/ Numero_Repeticiones* 100}%\")"
   ]
  }
 ],
 "metadata": {
  "kernelspec": {
   "display_name": "Python 3",
   "language": "python",
   "name": "python3"
  },
  "language_info": {
   "codemirror_mode": {
    "name": "ipython",
    "version": 3
   },
   "file_extension": ".py",
   "mimetype": "text/x-python",
   "name": "python",
   "nbconvert_exporter": "python",
   "pygments_lexer": "ipython3",
   "version": "3.11.4"
  }
 },
 "nbformat": 4,
 "nbformat_minor": 5
}
